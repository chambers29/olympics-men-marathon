{
 "cells": [
  {
   "cell_type": "code",
   "execution_count": 1,
   "id": "ee075610-f4ee-4326-9499-98eb212dd3b6",
   "metadata": {},
   "outputs": [],
   "source": [
    "import os\n",
    "os.chdir(\"..\")"
   ]
  },
  {
   "cell_type": "code",
   "execution_count": 2,
   "id": "1b2c870e-5bb3-4ea9-b004-9617b3fd6472",
   "metadata": {},
   "outputs": [],
   "source": [
    "from pathlib import Path\n",
    "import csv"
   ]
  },
  {
   "cell_type": "code",
   "execution_count": 3,
   "id": "1725aa30-d017-4287-9f56-d0f6f22ed13f",
   "metadata": {},
   "outputs": [
    {
     "name": "stdout",
     "output_type": "stream",
     "text": [
      "olympics_results.csv already exists, please delete file and try again.\n"
     ]
    }
   ],
   "source": [
    "folder_rawdata = Path('data_raw')\n",
    "if folder_rawdata.exists():\n",
    "    \n",
    "    folder_cleandata = Path('data_clean')\n",
    "    folder_cleandata.mkdir(exist_ok=True)\n",
    "    \n",
    "    file_results = Path('data_clean/olympics_results.csv')\n",
    "    if not file_results.exists():\n",
    "        \n",
    "        headers = ['Name', 'Country', 'Time', 'Place', 'Year']\n",
    "        with open(file_results, 'w', newline='', encoding='utf-8') as f:\n",
    "            writer = csv.writer(f)    \n",
    "            writer.writerow(headers)\n",
    "        \n",
    "        for file in folder_rawdata.iterdir():\n",
    "            with open(file, 'r', encoding='utf-8') as f:\n",
    "                lines = f.read() # using read() because every value in file ends with \\n\n",
    "                \n",
    "            lines = lines.split('\\n') # creating lists by \\n\n",
    "            \n",
    "            values = lines[5:] # starting with 5 because first 4 indexes are colums\n",
    "        \n",
    "            # creating new list that include every runner by another list\n",
    "            table = []\n",
    "            record = []\n",
    "            for value in values:\n",
    "                record.append(value)\n",
    "                if ':' in value:\n",
    "                    table.append(record)\n",
    "                    record = []\n",
    "        \n",
    "            # removing duplicates \n",
    "            table_temp = []\n",
    "            for record in table:\n",
    "                record = list(dict.fromkeys(record))\n",
    "                table_temp.append(record)\n",
    "            table = table_temp\n",
    "        \n",
    "            # replacing gold, silver and bronze positions to 1, 2, 3\n",
    "            replacements = {'G': '1', 'S': '2', 'B': '3'}\n",
    "            for record in table[:3]:\n",
    "                for old, new in replacements.items():\n",
    "                    record[0] = record[0].replace(old, new)\n",
    "        \n",
    "            # changing column order\n",
    "            table = [[r[2],r[1],r[3],r[0]] for r in table] \n",
    "        \n",
    "            # adding new value to every runner record that represent year they ran\n",
    "            for record in table:\n",
    "                record.append(str(file)[12:16])\n",
    "        \n",
    "            # creating csv file     \n",
    "            with open(file_results, 'a', newline='', encoding='utf-8') as f:\n",
    "                writer = csv.writer(f)\n",
    "                writer.writerows(table)\n",
    "                \n",
    "    else: print('olympics_results.csv already exists, please delete file and try again.')                \n",
    "else: print('You have to download data_raw folder.')"
   ]
  },
  {
   "cell_type": "code",
   "execution_count": null,
   "id": "3f52cadf-29e8-465a-a2a5-40505141de8d",
   "metadata": {},
   "outputs": [],
   "source": []
  }
 ],
 "metadata": {
  "kernelspec": {
   "display_name": "Python [conda env:base] *",
   "language": "python",
   "name": "conda-base-py"
  },
  "language_info": {
   "codemirror_mode": {
    "name": "ipython",
    "version": 3
   },
   "file_extension": ".py",
   "mimetype": "text/x-python",
   "name": "python",
   "nbconvert_exporter": "python",
   "pygments_lexer": "ipython3",
   "version": "3.12.7"
  }
 },
 "nbformat": 4,
 "nbformat_minor": 5
}
